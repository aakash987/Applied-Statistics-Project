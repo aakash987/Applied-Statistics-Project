{
  "nbformat": 4,
  "nbformat_minor": 0,
  "metadata": {
    "colab": {
      "provenance": []
    },
    "kernelspec": {
      "name": "python3",
      "display_name": "Python 3"
    },
    "language_info": {
      "name": "python"
    }
  },
  "cells": [
    {
      "cell_type": "code",
      "source": [
        "import pandas as pd\n",
        "import numpy as np\n",
        "import warnings\n",
        "import matplotlib.animation as animation\n",
        "import seaborn as sns\n",
        "import math\n",
        "import matplotlib.pyplot as plt\n",
        "\n",
        "sns.set(style=\"darkgrid\")\n",
        "pd.set_option('display.max_columns', 100)\n",
        "pd.set_option('display.max_colwidth', -1) # data and columns are displayed correctly\n",
        "pd.options.display.float_format = '{:20,.2f}'.format # display float value with correct precision\n",
        "\n",
        "warnings.filterwarnings('ignore')"
      ],
      "metadata": {
        "colab": {
          "base_uri": "https://localhost:8080/"
        },
        "id": "NCmh1JDuXj--",
        "outputId": "11c18b00-8ff0-4b72-e4fb-fa831231d750"
      },
      "execution_count": 2,
      "outputs": [
        {
          "output_type": "stream",
          "name": "stderr",
          "text": [
            "<ipython-input-2-51eb6cde5bf1>:11: FutureWarning: Passing a negative integer is deprecated in version 1.0 and will not be supported in future version. Instead, use None to not limit the column width.\n",
            "  pd.set_option('display.max_colwidth', -1) # data and columns are displayed correctly\n"
          ]
        }
      ]
    },
    {
      "cell_type": "code",
      "execution_count": null,
      "metadata": {
        "id": "Zl3_GP6BsFLZ"
      },
      "outputs": [],
      "source": [
        "# CREATING TABLE DATA\n",
        "table_data = [\n",
        " ['Planned to purchase ','Placed order for product A = yes ' , ' Placed order for product A = No', 'TOTAL'],\n",
        " ['YES', 400, 100, 500],\n",
        "  ['NO', 200, 1300, 1500],\n",
        "    ['TOTAL', 600, 1400, 2000]\n",
        "]\n",
        "\n"
      ]
    },
    {
      "cell_type": "code",
      "source": [
        "#DISPLAY DATA\n",
        "for row in table_data:\n",
        "    for item in row:\n",
        "        print(f\"{item: <35}\", end=\"\")\n",
        "    print()"
      ],
      "metadata": {
        "colab": {
          "base_uri": "https://localhost:8080/"
        },
        "id": "c8UAcpWDVo2r",
        "outputId": "777b7760-2c28-4842-d9a1-584907e5a02b"
      },
      "execution_count": null,
      "outputs": [
        {
          "output_type": "stream",
          "name": "stdout",
          "text": [
            "Planned to purchase                Placed order for product A = yes    Placed order for product A = No   TOTAL                              \n",
            "YES                                400                                100                                500                                \n",
            "NO                                 200                                1300                               1500                               \n",
            "TOTAL                              600                                1400                               2000                               \n"
          ]
        }
      ]
    },
    {
      "cell_type": "code",
      "source": [
        "# Refer above table and find the joint probability of the people who planned to purchase and actually placed an order.\n",
        "count_planned_yes_placed_yes = 400\n",
        "total_population = 2000\n",
        "\n",
        "# Calculating the joint probability\n",
        "joint_probability = count_planned_yes_placed_yes / total_population\n",
        "\n",
        "print(f\"Joint Probability of Planned=YES and Placed=YES: {joint_probability}\")\n"
      ],
      "metadata": {
        "colab": {
          "base_uri": "https://localhost:8080/"
        },
        "id": "Rmbi3c-uWG8j",
        "outputId": "7ba2bacd-bb3d-48d1-ed14-1704905092d6"
      },
      "execution_count": null,
      "outputs": [
        {
          "output_type": "stream",
          "name": "stdout",
          "text": [
            "Joint Probability of Planned=YES and Placed=YES: 0.2\n"
          ]
        }
      ]
    },
    {
      "cell_type": "markdown",
      "source": [
        "HENCE WE CAN SEE THAT 20% OF joint probability of the people who planned to purchase and actually placed an order."
      ],
      "metadata": {
        "id": "3LG--ZfQYS1c"
      }
    },
    {
      "cell_type": "code",
      "source": [
        "#Refer to the above table and find the joint probability of the people who planned to purchase and actually placed an order, given that people planned to purchase.\n",
        "count_planned_yes_placed_yes = 400\n",
        "count_planned_to_purchase = 500\n",
        "\n",
        "#calculate the joint probability\n",
        "joint_probability = count_planned_yes_placed_yes/count_planned_to_purchase\n",
        "\n",
        "print(f\"joint probability of people planned to purchase= YES  and actually placed an order=YES: {joint_probability}\")\n",
        "#HENCE 80% OF THE PEOPLE people who planned to purchase and actually placed an order, given that people planned to purchase"
      ],
      "metadata": {
        "colab": {
          "base_uri": "https://localhost:8080/"
        },
        "id": "R_52yF09YiXv",
        "outputId": "6ecdacfe-d881-4160-a7bb-0b7c611865dc"
      },
      "execution_count": null,
      "outputs": [
        {
          "output_type": "stream",
          "name": "stdout",
          "text": [
            "joint probability of people planned to purchase= YES  and actually placed an order=YES: 0.8\n"
          ]
        }
      ]
    },
    {
      "cell_type": "code",
      "source": [
        " #An electrical manufacturing company conducts quality checks at specified periods on the products it manufactures. Historically, the\n",
        "#failure rate for the manufactured item is 5%. Suppose a random sample of 10 manufactured items is selected. Answer the following\n",
        "#questions.\n",
        "\n",
        "#Probability that none of the items are defective\n",
        "p_defective = 0.05\n",
        "S = 10\n",
        "\n",
        "prob_none_defective = (1- p_defective) ** S\n",
        "\n",
        "print(f\"Probability that none of the items are defective: {prob_none_defective:.4f}\")"
      ],
      "metadata": {
        "colab": {
          "base_uri": "https://localhost:8080/"
        },
        "id": "2KCKebkxa02A",
        "outputId": "d6480dee-8067-44d0-b473-020578383a20"
      },
      "execution_count": null,
      "outputs": [
        {
          "output_type": "stream",
          "name": "stdout",
          "text": [
            "Probability that none of the items are defective: 0.5987\n"
          ]
        }
      ]
    },
    {
      "cell_type": "code",
      "source": [
        "#probability that exactly onr item is defective\n",
        "\n",
        "\n",
        "p_defective = 0.05  # Probability of a single item being defective\n",
        "n = 10  # Number of items in the sample\n",
        "k = 1  # Number of successes\n",
        "\n",
        "# Probability calculation\n",
        "prob_one_defective = math.comb(n, k) * (p_defective ** k) * ((1 - p_defective) ** (n - k))\n",
        "\n",
        "print(f\"Probability that exactly one item is defective: {prob_one_defective:.4f}\")\n"
      ],
      "metadata": {
        "colab": {
          "base_uri": "https://localhost:8080/"
        },
        "id": "pdd6c6jPhoGw",
        "outputId": "f4d505ce-6bc3-4e8a-9bc9-26ca6b0c8373"
      },
      "execution_count": 3,
      "outputs": [
        {
          "output_type": "stream",
          "name": "stdout",
          "text": [
            "Probability that exactly one item is defective: 0.3151\n"
          ]
        }
      ]
    },
    {
      "cell_type": "code",
      "source": [
        "#Probability that two or fewer items are defective\n",
        "p_defective = 0.05  # Probability of a single item being defective\n",
        "n = 10  # Number of items in the sample\n",
        "\n",
        "# Probability calculation for k = 0, 1, and 2\n",
        "prob_two_or_fewer_defective = sum(math.comb(n, k) * (p_defective ** k) * ((1 - p_defective) ** (n - k)) for k in range(3))\n",
        "\n",
        "print(f\"Probability that two or fewer items are defective: {prob_two_or_fewer_defective:.4f}\")\n"
      ],
      "metadata": {
        "colab": {
          "base_uri": "https://localhost:8080/"
        },
        "id": "0uwPYApniODg",
        "outputId": "4b946c46-f97e-42ca-b7b6-47f4eb49dcd3"
      },
      "execution_count": null,
      "outputs": [
        {
          "output_type": "stream",
          "name": "stdout",
          "text": [
            "Probability that two or fewer items are defective: 0.9885\n"
          ]
        }
      ]
    },
    {
      "cell_type": "code",
      "source": [
        "#Probability that three or more items are defective\n",
        "prob_three_or_more_defective = 1 - prob_two_or_fewer_defective\n",
        "\n",
        "print(f\"Probability that three or more items are defective: {prob_three_or_more_defective:.4f}\")\n"
      ],
      "metadata": {
        "colab": {
          "base_uri": "https://localhost:8080/"
        },
        "id": "Vj2Nmv4OidOk",
        "outputId": "394a637b-943e-45fb-e4f9-cc9ee9fc0670"
      },
      "execution_count": null,
      "outputs": [
        {
          "output_type": "stream",
          "name": "stdout",
          "text": [
            "Probability that three or more items are defective: 0.0115\n"
          ]
        }
      ]
    },
    {
      "cell_type": "code",
      "source": [
        "#A car salesman sells on an average 3 cars per week.\n",
        "# What is Probability that in a given week he will sell some cars\n",
        "\n",
        "average_rate = 3  # Average number of cars sold per week\n",
        "\n",
        "# Probability of selling 0 cars in a week\n",
        "prob_zero_cars = math.exp(-average_rate) * (average_rate**0) / math.factorial(0)\n",
        "\n",
        "# Probability of selling at least 1 car in a week\n",
        "prob_at_least_one_car = 1 - prob_zero_cars\n",
        "\n",
        "print(f\"Probability of selling at least 1 car in a week: {prob_at_least_one_car:.4f}\")\n"
      ],
      "metadata": {
        "colab": {
          "base_uri": "https://localhost:8080/"
        },
        "id": "Zf_K40d4jTIk",
        "outputId": "2c70e187-5c60-429d-d070-7302f965b233"
      },
      "execution_count": null,
      "outputs": [
        {
          "output_type": "stream",
          "name": "stdout",
          "text": [
            "Probability of selling at least 1 car in a week: 0.9502\n"
          ]
        }
      ]
    },
    {
      "cell_type": "code",
      "source": [
        "#What is Probability that in a given week he will sell 2 or more but less than 5 cars\n",
        "\n",
        "average_rate = 3  # Average number of cars sold per week\n",
        "\n",
        "# Probability of selling exactly k cars in a week using the Poisson distribution\n",
        "def poisson_probability(k, lambda_val):\n",
        "    return math.exp(-lambda_val) * (lambda_val ** k) / math.factorial(k)\n",
        "\n",
        "# Calculate the probabilities for selling 2, 3, and 4 cars\n",
        "prob_2_cars = poisson_probability(2, average_rate)\n",
        "prob_3_cars = poisson_probability(3, average_rate)\n",
        "prob_4_cars = poisson_probability(4, average_rate)\n",
        "\n",
        "# Probability of selling 2 or more but less than 5 cars\n",
        "prob_between_2_and_4_cars = prob_2_cars + prob_3_cars + prob_4_cars\n",
        "\n",
        "print(f\"Probability of selling 2 or more but less than 5 cars: {prob_between_2_and_4_cars:.4f}\")\n"
      ],
      "metadata": {
        "colab": {
          "base_uri": "https://localhost:8080/"
        },
        "id": "y0ASu7_MxtKE",
        "outputId": "b914b494-cccf-4d7e-af02-1432d185ee01"
      },
      "execution_count": null,
      "outputs": [
        {
          "output_type": "stream",
          "name": "stdout",
          "text": [
            "Probability of selling 2 or more but less than 5 cars: 0.6161\n"
          ]
        }
      ]
    },
    {
      "cell_type": "code",
      "source": [
        "#What is Probability that in a given week he will sell some cars?\n",
        "average_cars_sold = 3 # Average number of cars sold per week\n",
        "\n",
        "# Calculate the probability of selling zero cars\n",
        "prob_zero_cars = math.exp(-average_cars_sold)\n",
        "\n",
        "# Probability of selling some cars\n",
        "prob_some_cars = 1 - prob_zero_cars\n",
        "\n",
        "print(f\"The probability of selling some cars in a given week is approximately: {prob_some_cars:.4f} or {prob_some_cars * 100:.2f}%\")\n"
      ],
      "metadata": {
        "colab": {
          "base_uri": "https://localhost:8080/"
        },
        "id": "yfqzryIpdsk8",
        "outputId": "91136bba-4b91-4df0-df6b-0a3845a0698a"
      },
      "execution_count": 5,
      "outputs": [
        {
          "output_type": "stream",
          "name": "stdout",
          "text": [
            "The probability of selling some cars in a given week is approximately: 0.9502 or 95.02%\n"
          ]
        }
      ]
    },
    {
      "cell_type": "code",
      "source": [
        "# Average number of cars sold per week\n",
        "average_cars_sold = 3\n",
        "\n",
        "# Calculate probabilities for selling 2, 3, and 4 cars\n",
        "prob_2_cars = (math.exp(-average_cars_sold) * (average_cars_sold**2)) / math.factorial(2)\n",
        "prob_3_cars = (math.exp(-average_cars_sold) * (average_cars_sold**3)) / math.factorial(3)\n",
        "prob_4_cars = (math.exp(-average_cars_sold) * (average_cars_sold**4)) / math.factorial(4)\n",
        "\n",
        "# Sum these probabilities to find the overall probability of selling 2 or more but less than 5 cars\n",
        "prob_2_to_4_cars = prob_2_cars + prob_3_cars + prob_4_cars\n",
        "\n",
        "print(f\"The probability of selling 2 or more but less than 5 cars in a given week is approximately: {prob_2_to_4_cars:.4f} or {prob_2_to_4_cars * 100:.2f}%\")\n"
      ],
      "metadata": {
        "colab": {
          "base_uri": "https://localhost:8080/"
        },
        "id": "LxTGYT_veIHc",
        "outputId": "4be76f34-13c1-4046-fe9b-2fd8d7999848"
      },
      "execution_count": 6,
      "outputs": [
        {
          "output_type": "stream",
          "name": "stdout",
          "text": [
            "The probability of selling 2 or more but less than 5 cars in a given week is approximately: 0.6161 or 61.61%\n"
          ]
        }
      ]
    },
    {
      "cell_type": "code",
      "source": [
        "#Plot the poisson distribution function for cumulative probability of cars sold per-week vs number of cars sold per week\n",
        "average_rate = 3  # Average number of cars sold per week\n",
        "\n",
        "def poisson_distribution(k, lambda_val):\n",
        "    return (math.exp(-lambda_val) * (lambda_val ** k)) / math.factorial(k)\n",
        "\n",
        "# Calculate cumulative probabilities for different numbers of cars sold\n",
        "num_cars = np.arange(0, 15)  # Numbers of cars sold per week\n",
        "cumulative_prob = np.zeros_like(num_cars, dtype=float)\n",
        "\n",
        "for i, n in enumerate(num_cars):\n",
        "    cumulative_prob[i] = sum(poisson_distribution(k, average_rate) for k in range(n))\n",
        "\n",
        "plt.figure(figsize=(8, 5))\n",
        "plt.plot(num_cars, cumulative_prob, marker='o', linestyle='-')\n",
        "plt.title('Poisson Distribution of Cars Sold per Week')\n",
        "plt.xlabel('Number of Cars Sold')\n",
        "plt.ylabel('Cumulative Probability')\n",
        "plt.grid(True)\n",
        "plt.show()\n"
      ],
      "metadata": {
        "colab": {
          "base_uri": "https://localhost:8080/",
          "height": 496
        },
        "id": "1h3HQ1O9yGVK",
        "outputId": "813e8885-4838-4131-e0d2-bde431f49fb3"
      },
      "execution_count": 8,
      "outputs": [
        {
          "output_type": "display_data",
          "data": {
            "text/plain": [
              "<Figure size 800x500 with 1 Axes>"
            ],
            "image/png": "[encoded data removed]"
          },
          "metadata": {}
        }
      ]
    },
    {
      "cell_type": "code",
      "source": [
        "#Accuracy in understanding orders for a speech based bot at a restaurant is important for the Company X which has designed,\n",
        "#marketed and launched the product for a contactless delivery due to the COVID-19 pandemic. Recognition accuracy that measures the\n",
        "#percentage of orders that are taken correctly is 86.8%. Suppose that you place an order with the bot and two friends of yours\n",
        "#independently place orders with the same bot. Answer the following questions.\n",
        "#to calculate the probability of three order being recognised correctly .\n",
        "\n",
        "n = 0.86 #orders taken correctly\n",
        "s= 3 #numberof orders placed\n",
        "#to know the answer we need 0.86 x 0.86 x 0.86 .\n",
        "probability_recognition = 0.868 ** 3\n",
        "print(f\"Probability that all three orders will be recognized correctly: {probability_recognition:.4f}\")"
      ],
      "metadata": {
        "colab": {
          "base_uri": "https://localhost:8080/"
        },
        "id": "srarzoUQzKmG",
        "outputId": "695174cc-5755-4579-8a6f-20364094fd6a"
      },
      "execution_count": null,
      "outputs": [
        {
          "output_type": "stream",
          "name": "stdout",
          "text": [
            "Probability that all three orders will be recognized correctly: 0.6540\n"
          ]
        }
      ]
    },
    {
      "cell_type": "code",
      "source": [
        "#What is the probability that none of the three orders will be recognised correctly\n",
        "#The probability of an order not being recognized correctly is 1- 0.868 = 0.132\n",
        "#Hence\n",
        "N = 0.132\n",
        "# to get answer we need to do 0.132 x 0.132 x 0.132 as we have 3 customers\n",
        "probability_no_recognition = (1 - 0.868) ** 3\n",
        "print(f\"Probability that none of the three orders will be recognized correctly: {probability_no_recognition:.4f}\")\n",
        "\n"
      ],
      "metadata": {
        "colab": {
          "base_uri": "https://localhost:8080/"
        },
        "id": "5cGvQ9fR1YlM",
        "outputId": "9db23909-694a-49ba-cf2b-b5725bedac12"
      },
      "execution_count": null,
      "outputs": [
        {
          "output_type": "stream",
          "name": "stdout",
          "text": [
            "Probability that none of the three orders will be recognized correctly: 0.0023\n"
          ]
        }
      ]
    },
    {
      "cell_type": "code",
      "source": [
        "#What is the probability that at least two of the three orders will be recognised correctly?\n",
        "#Probability of exactly two orders being recognized correctly=C(3,2)×(0.868)**2 x (0.132)\n",
        "from math import comb\n",
        "prob_two_recognized = comb(3, 2) * (0.868) ** 2 * (1 - 0.868) #\n",
        "prob_at_least_two_recognized = prob_two_recognized + probability_recognition\n",
        "\n",
        "print(f\"Probability that at least two of the three orders will be recognized correctly: {prob_at_least_two_recognized:.4f}\")\n",
        "#Therefore, the probability that at least two of the three orders will be recognized correctly by the bot is approximately 90.97%."
      ],
      "metadata": {
        "colab": {
          "base_uri": "https://localhost:8080/"
        },
        "id": "Eerea5BB2LJ9",
        "outputId": "dfe5ee69-01c0-41b8-c407-18f0f4c8f4e9"
      },
      "execution_count": null,
      "outputs": [
        {
          "output_type": "stream",
          "name": "stdout",
          "text": [
            "Probability that at least two of the three orders will be recognized correctly: 0.9523\n"
          ]
        }
      ]
    },
    {
      "cell_type": "code",
      "source": [
        "#Explain 1 real life industry scenario (other than the ones mentioned above) where you can use the concepts learnt in this module of\n",
        "#Applied Statistics to get data driven business solution.\n",
        "\n",
        "#ANSWER:\n",
        "#Statistics play a significant role in understanding and managing traffic in various ways:\n",
        "\n",
        "#Traffic Flow Analysis: By evaluating traffic patterns, peak hours, and congestion, statistical techniques help to anticipate future traffic volumes\n",
        "# for infrastructure design and to optimize signal timings.\n",
        "\n",
        "#Accident Analysis: Statistics help with targeted actions in high-risk regions and safety improvements by identifying accident frequency,\n",
        "# locations, and reasons.\n",
        "\n",
        "#Public transportation optimization is the process of improving the effectiveness of public transportation by modifying routes, schedules,\n",
        "#and frequencies through statistical analysis of ridership data.\n",
        "\n",
        "#Driver Behavior Analysis: Traffic safety regulations and enforcement tactics are influenced by statistical understandings of driver behavior,\n",
        "#including speed and reaction times.\n",
        "\n",
        "#Environmental Impact Assessment: This process guides policy to reduce environmental impact through sustainable transportation methods by using\n",
        "#statistics to evaluate fuel consumption, emissions, and traffic density.\n",
        "\n"
      ],
      "metadata": {
        "id": "oKeM0gKg83lT"
      },
      "execution_count": null,
      "outputs": []
    },
    {
      "cell_type": "markdown",
      "source": [
        "#Explain 1 real life industry scenario (other than the ones mentioned above) where you can use the concepts learnt in this module of\n",
        "#Applied Statistics to get data driven business solution.\n",
        "\n",
        "#ANSWER:\n",
        "#Statistics play a significant role in understanding and managing traffic in various ways:\n",
        "\n",
        "#Traffic Flow Analysis: By evaluating traffic patterns, peak hours, and congestion, statistical techniques help to anticipate future traffic volumes\n",
        "# for infrastructure design and to optimize signal timings.\n",
        "\n",
        "#Accident Analysis: Statistics help with targeted actions in high-risk regions and safety improvements by identifying accident frequency,\n",
        "# locations, and reasons.\n",
        "\n",
        "#Public transportation optimization is the process of improving the effectiveness of public transportation by modifying routes, schedules,\n",
        "#and frequencies through statistical analysis of ridership data.\n",
        "\n",
        "#Driver Behavior Analysis: Traffic safety regulations and enforcement tactics are influenced by statistical understandings of driver behavior,\n",
        "#including speed and reaction times.\n",
        "\n",
        "#Environmental Impact Assessment: This process guides policy to reduce environmental impact through sustainable transportation methods by using\n",
        "#statistics to evaluate fuel consumption, emissions, and traffic density.\n"
      ],
      "metadata": {
        "id": "zdNBxIC0fLp6"
      }
    }
  ]
}